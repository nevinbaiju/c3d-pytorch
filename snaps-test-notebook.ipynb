{
 "cells": [
  {
   "cell_type": "code",
   "execution_count": 62,
   "metadata": {},
   "outputs": [],
   "source": [
    "import numpy as np\n",
    "import cv2\n",
    "import time\n",
    "\n",
    "import torch\n",
    "from torch.autograd import Variable\n",
    "\n",
    "from os.path import join\n",
    "from glob import glob\n",
    "\n",
    "import skimage.io as io\n",
    "from skimage.transform import resize\n",
    "\n",
    "from C3D_model import C3D"
   ]
  },
  {
   "cell_type": "code",
   "execution_count": null,
   "metadata": {},
   "outputs": [],
   "source": [
    "cuda = False"
   ]
  },
  {
   "cell_type": "code",
   "execution_count": 12,
   "metadata": {},
   "outputs": [],
   "source": [
    "def get_sport_clip(clip_name, verbose=True):\n",
    "    \"\"\"\n",
    "    Loads a clip to be fed to C3D for classification.\n",
    "    TODO: should I remove mean here?\n",
    "    \n",
    "    Parameters\n",
    "    ----------\n",
    "    clip_name: str\n",
    "        the name of the clip (subfolder in 'data').\n",
    "    verbose: bool\n",
    "        if True, shows the unrolled clip (default is True).\n",
    "\n",
    "    Returns\n",
    "    -------\n",
    "    Tensor\n",
    "        a pytorch batch (n, ch, fr, h, w).\n",
    "    \"\"\"\n",
    "\n",
    "    clip = sorted(glob(join('data', clip_name, '*.png')))\n",
    "    clip = np.array([resize(io.imread(frame), output_shape=(112, 200), preserve_range=True) for frame in clip])\n",
    "    print(clip.shape)\n",
    "    clip = clip[:, :, 44:44+112, :]  # crop centrally\n",
    "\n",
    "    if verbose:\n",
    "        clip_img = np.reshape(clip.transpose(1, 0, 2, 3), (112, 16 * 112, 3))\n",
    "        io.imshow(clip_img.astype(np.uint8))\n",
    "        io.show()\n",
    "\n",
    "    clip = clip.transpose(3, 0, 1, 2)  # ch, fr, h, w\n",
    "    clip = np.expand_dims(clip, axis=0)  # batch axis\n",
    "    clip = np.float32(clip)\n",
    "    \n",
    "    print(clip.shape)\n",
    "    return torch.from_numpy(clip)"
   ]
  },
  {
   "cell_type": "code",
   "execution_count": 13,
   "metadata": {},
   "outputs": [],
   "source": [
    "def read_labels_from_file(filepath):\n",
    "    \"\"\"\n",
    "    Reads Sport1M labels from file\n",
    "    \n",
    "    Parameters\n",
    "    ----------\n",
    "    filepath: str\n",
    "        the file.\n",
    "        \n",
    "    Returns\n",
    "    -------\n",
    "    list\n",
    "        list of sport names.\n",
    "    \"\"\"\n",
    "    with open(filepath, 'r') as f:\n",
    "        labels = [line.strip() for line in f.readlines()]\n",
    "    return labels"
   ]
  },
  {
   "cell_type": "code",
   "execution_count": 14,
   "metadata": {},
   "outputs": [],
   "source": [
    "def main():\n",
    "    \"\"\"\n",
    "    Main function.\n",
    "    \"\"\"\n",
    "\n",
    "    # load a clip to be predicted\n",
    "    X = get_sport_clip('roger')\n",
    "    X = Variable(X)\n",
    "    if cuda:\n",
    "        X = X.cuda()\n",
    "\n",
    "    # get network pretrained model\n",
    "    net = C3D()\n",
    "    net.load_state_dict(torch.load('c3d.pickle'))\n",
    "    if cuda:\n",
    "        net.cuda()\n",
    "    net.eval()\n",
    "\n",
    "    # perform prediction\n",
    "    prediction = net(X)\n",
    "    prediction = prediction.data.cpu().numpy()\n",
    "\n",
    "    # read labels\n",
    "    labels = read_labels_from_file('labels.txt')\n",
    "\n",
    "    # print top predictions\n",
    "    top_inds = prediction[0].argsort()[::-1][:5]  # reverse sort and take five largest items\n",
    "    print('\\nTop 5:')\n",
    "    for i in top_inds:\n",
    "        print('{:.5f} {}'.format(prediction[0][i], labels[i]))"
   ]
  },
  {
   "cell_type": "code",
   "execution_count": 15,
   "metadata": {},
   "outputs": [
    {
     "name": "stderr",
     "output_type": "stream",
     "text": [
      "/home/nevin/.conda/envs/pytorch/lib/python3.6/site-packages/skimage/transform/_warps.py:105: UserWarning: The default mode, 'constant', will be changed to 'reflect' in skimage 0.15.\n",
      "  warn(\"The default mode, 'constant', will be changed to 'reflect' in \"\n",
      "/home/nevin/.conda/envs/pytorch/lib/python3.6/site-packages/skimage/transform/_warps.py:110: UserWarning: Anti-aliasing will be enabled by default in skimage 0.15 to avoid aliasing artifacts when down-sampling images.\n",
      "  warn(\"Anti-aliasing will be enabled by default in skimage 0.15 to \"\n"
     ]
    },
    {
     "name": "stdout",
     "output_type": "stream",
     "text": [
      "(16, 112, 200, 3)\n"
     ]
    },
    {
     "data": {
      "image/png": "[encoded data removed]",
      "text/plain": [
       "<Figure size 432x288 with 1 Axes>"
      ]
     },
     "metadata": {},
     "output_type": "display_data"
    },
    {
     "name": "stdout",
     "output_type": "stream",
     "text": [
      "(1, 3, 16, 112, 112)\n",
      "\n",
      "Top 5:\n",
      "0.92100 tennis\n",
      "0.01580 padel tennis\n",
      "0.01240 softball\n",
      "0.00891 soft tennis\n",
      "0.00687 aggressive inline skating\n"
     ]
    },
    {
     "name": "stderr",
     "output_type": "stream",
     "text": [
      "/home/nevin/nevin/projects/ml-exercises/paper-implemenations/c3d-pytorch/C3D_model.py:66: UserWarning: Implicit dimension choice for softmax has been deprecated. Change the call to include dim=X as an argument.\n",
      "  probs = self.softmax(logits)\n"
     ]
    }
   ],
   "source": [
    "main()"
   ]
  },
  {
   "cell_type": "code",
   "execution_count": 97,
   "metadata": {},
   "outputs": [],
   "source": [
    "def get_blocc(vid):\n",
    "    arr = []\n",
    "    for i in range(16):\n",
    "        arr.append(vid.read()[1])\n",
    "\n",
    "    blocc = np.array([resize(frame, output_shape=(112, 200), preserve_range=True) for frame in arr])\n",
    "\n",
    "    blocc = blocc[:, :, 44:44+112, :]\n",
    "    blocc = blocc.transpose(3, 0, 1, 2)  # ch, fr, h, w\n",
    "    blocc = np.expand_dims(blocc, axis=0)  # batch axis\n",
    "    blocc = np.float32(blocc)\n",
    "    blocc = torch.from_numpy(blocc)\n",
    "    \n",
    "    return blocc"
   ]
  },
  {
   "cell_type": "code",
   "execution_count": 103,
   "metadata": {},
   "outputs": [],
   "source": [
    "def predict(filename):\n",
    "    # load a clip to be predicted\n",
    "    #X = X.cuda()\n",
    "    # get network pretrained model\n",
    "    net = C3D()\n",
    "    net.load_state_dict(torch.load('c3d.pickle'))\n",
    "    #net.cuda()\n",
    "    net.eval()\n",
    "\n",
    "    # perform prediction\n",
    "    \n",
    "    vid = cv2.VideoCapture(filename)\n",
    "    ind = 0\n",
    "    while(vid):\n",
    "        X = get_blocc(vid)\n",
    "        X = Variable(X)\n",
    "        start_time = time.time()\n",
    "        prediction = net(X)\n",
    "        prediction = prediction.data.cpu().numpy()\n",
    "        print(\"Time taken for prediction =\", time.time()-start_time)\n",
    "        ind = ind+1\n",
    "        print(ind)\n",
    "\n",
    "        # read labels\n",
    "        labels = read_labels_from_file('labels.txt')\n",
    "\n",
    "        # print top predictions\n",
    "        top_inds = prediction[0].argsort()[::-1][:5]  # reverse sort and take five largest items\n",
    "        print('\\nTop 5:')\n",
    "        for i in top_inds:\n",
    "          print('{:.5f} {}'.format(prediction[0][i], labels[i]))\n",
    "        if(ind > 10):\n",
    "            print(ind)\n",
    "            break"
   ]
  },
  {
   "cell_type": "code",
   "execution_count": 104,
   "metadata": {
    "scrolled": false
   },
   "outputs": [
    {
     "name": "stderr",
     "output_type": "stream",
     "text": [
      "/home/nevin/.conda/envs/pytorch/lib/python3.6/site-packages/skimage/transform/_warps.py:105: UserWarning: The default mode, 'constant', will be changed to 'reflect' in skimage 0.15.\n",
      "  warn(\"The default mode, 'constant', will be changed to 'reflect' in \"\n",
      "/home/nevin/.conda/envs/pytorch/lib/python3.6/site-packages/skimage/transform/_warps.py:110: UserWarning: Anti-aliasing will be enabled by default in skimage 0.15 to avoid aliasing artifacts when down-sampling images.\n",
      "  warn(\"Anti-aliasing will be enabled by default in skimage 0.15 to \"\n",
      "/home/nevin/nevin/projects/ml-exercises/paper-implemenations/c3d-pytorch/C3D_model.py:66: UserWarning: Implicit dimension choice for softmax has been deprecated. Change the call to include dim=X as an argument.\n",
      "  probs = self.softmax(logits)\n"
     ]
    },
    {
     "name": "stdout",
     "output_type": "stream",
     "text": [
      "Time taken for prediction = 0.6720995903015137\n",
      "1\n",
      "\n",
      "Top 5:\n",
      "0.20809 road bicycle racing\n",
      "0.11677 cycling\n",
      "0.11445 supermoto\n",
      "0.07423 cross-country cycling\n",
      "0.04752 isle of man tt\n",
      "Time taken for prediction = 0.6798207759857178\n",
      "2\n",
      "\n",
      "Top 5:\n",
      "0.26924 road bicycle racing\n",
      "0.14372 supermoto\n",
      "0.06851 endurance racing (motorsport)\n",
      "0.06372 cycling\n",
      "0.06336 motorcycle racing\n",
      "Time taken for prediction = 0.6800065040588379\n",
      "3\n",
      "\n",
      "Top 5:\n",
      "0.43744 road bicycle racing\n",
      "0.08998 cycling\n",
      "0.06943 supermoto\n",
      "0.04711 endurance racing (motorsport)\n",
      "0.03954 duathlon\n",
      "Time taken for prediction = 0.6806516647338867\n",
      "4\n",
      "\n",
      "Top 5:\n",
      "0.15460 road bicycle racing\n",
      "0.12969 cycling\n",
      "0.10011 supermoto\n",
      "0.07300 streetluge\n",
      "0.03624 longboarding\n",
      "Time taken for prediction = 0.6812648773193359\n",
      "5\n",
      "\n",
      "Top 5:\n",
      "0.15867 streetluge\n",
      "0.07571 longboarding\n",
      "0.05909 orienteering\n",
      "0.05532 cross-country skiing\n",
      "0.05489 road bicycle racing\n",
      "Time taken for prediction = 0.6807212829589844\n",
      "6\n",
      "\n",
      "Top 5:\n",
      "0.19499 streetluge\n",
      "0.14353 longboarding\n",
      "0.10169 freeboard (skateboard)\n",
      "0.05193 supermoto\n",
      "0.02752 orienteering\n",
      "Time taken for prediction = 0.6803088188171387\n",
      "7\n",
      "\n",
      "Top 5:\n",
      "0.27483 orienteering\n",
      "0.09049 biathlon\n",
      "0.06819 cross-country skiing\n",
      "0.05566 rallying\n",
      "0.02562 nordic skiing\n",
      "Time taken for prediction = 0.6808252334594727\n",
      "8\n",
      "\n",
      "Top 5:\n",
      "0.20836 orienteering\n",
      "0.12524 biathlon\n",
      "0.10272 cross-country skiing\n",
      "0.04201 streetluge\n",
      "0.04144 rallying\n",
      "Time taken for prediction = 0.6810576915740967\n",
      "9\n",
      "\n",
      "Top 5:\n",
      "0.08893 orienteering\n",
      "0.06527 endurance racing (motorsport)\n",
      "0.06337 supermoto\n",
      "0.05847 biathlon\n",
      "0.05341 streetluge\n",
      "Time taken for prediction = 0.6815898418426514\n",
      "10\n",
      "\n",
      "Top 5:\n",
      "0.16998 streetluge\n",
      "0.13935 supermoto\n",
      "0.08033 road racing\n",
      "0.07750 endurance racing (motorsport)\n",
      "0.06530 kart racing\n",
      "Time taken for prediction = 0.6814477443695068\n",
      "11\n",
      "\n",
      "Top 5:\n",
      "0.11975 streetluge\n",
      "0.11907 road bicycle racing\n",
      "0.10845 inline speed skating\n",
      "0.06077 endurance racing (motorsport)\n",
      "0.05274 cross-country skiing\n",
      "11\n",
      "Total time taken =  9.219189643859863\n"
     ]
    }
   ],
   "source": [
    "start_time = time.time()\n",
    "predict('./vid_data/cycling.mp4')\n",
    "print(\"Total time taken = \", time.time()-start_time)"
   ]
  },
  {
   "cell_type": "code",
   "execution_count": null,
   "metadata": {},
   "outputs": [],
   "source": []
  }
 ],
 "metadata": {
  "kernelspec": {
   "display_name": "Python [conda env:pytorch]",
   "language": "python",
   "name": "conda-env-pytorch-py"
  },
  "language_info": {
   "codemirror_mode": {
    "name": "ipython",
    "version": 3
   },
   "file_extension": ".py",
   "mimetype": "text/x-python",
   "name": "python",
   "nbconvert_exporter": "python",
   "pygments_lexer": "ipython3",
   "version": "3.6.6"
  }
 },
 "nbformat": 4,
 "nbformat_minor": 2
}
