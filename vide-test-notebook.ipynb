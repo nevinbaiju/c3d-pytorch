{
 "cells": [
  {
   "cell_type": "code",
   "execution_count": 16,
   "metadata": {},
   "outputs": [],
   "source": [
    "import numpy as np\n",
    "import cv2\n",
    "\n",
    "import time\n",
    "from __future__ import print_function\n",
    "\n",
    "import torch\n",
    "from torch.autograd import Variable\n",
    "\n",
    "from os.path import join\n",
    "from glob import glob\n",
    "\n",
    "import skimage.io as io\n",
    "from skimage.transform import resize\n",
    "\n",
    "from C3D_model import C3D"
   ]
  },
  {
   "cell_type": "code",
   "execution_count": 17,
   "metadata": {},
   "outputs": [],
   "source": [
    "cuda = False\n",
    "frames = 16"
   ]
  },
  {
   "cell_type": "code",
   "execution_count": 18,
   "metadata": {},
   "outputs": [],
   "source": [
    "def get_blocc(vid):\n",
    "    arr = []\n",
    "    for i in range(frames):\n",
    "        arr.append(vid.read()[1])\n",
    "\n",
    "    blocc = np.array([resize(frame, output_shape=(112, 200), preserve_range=True) for frame in arr])\n",
    "\n",
    "    blocc = blocc[:, :, 44:44+112, :]\n",
    "    blocc = blocc.transpose(3, 0, 1, 2)  # ch, fr, h, w\n",
    "    blocc = np.expand_dims(blocc, axis=0)  # batch axis\n",
    "    blocc = np.float32(blocc)\n",
    "    blocc = torch.from_numpy(blocc)\n",
    "    \n",
    "    return blocc"
   ]
  },
  {
   "cell_type": "code",
   "execution_count": 19,
   "metadata": {},
   "outputs": [],
   "source": [
    "def read_labels_from_file(filepath):\n",
    "    \"\"\"\n",
    "    Reads Sport1M labels from file\n",
    "    \n",
    "    Parameters\n",
    "    ----------\n",
    "    filepath: str\n",
    "        the file.\n",
    "        \n",
    "    Returns\n",
    "    -------\n",
    "    list\n",
    "        list of sport names.\n",
    "    \"\"\"\n",
    "    with open(filepath, 'r') as f:\n",
    "        labels = [line.strip() for line in f.readlines()]\n",
    "    return labels"
   ]
  },
  {
   "cell_type": "code",
   "execution_count": 22,
   "metadata": {},
   "outputs": [],
   "source": [
    "def predict(filename):\n",
    "    # load a clip to be predicted\n",
    "    # get network pretrained model\n",
    "    net = C3D()\n",
    "    net.load_state_dict(torch.load('c3d.pickle'))\n",
    "\n",
    "    if cuda:\n",
    "        net.cuda()\n",
    "    net.eval()\n",
    "\n",
    "    # perform prediction\n",
    "    \n",
    "    vid = cv2.VideoCapture(filename)\n",
    "    ind = 0\n",
    "    while(vid):\n",
    "        X = get_blocc(vid)\n",
    "        X = Variable(X)\n",
    "        if cuda:\n",
    "                X = X.cuda()\n",
    "        start_time = time.time()\n",
    "        prediction = net(X)\n",
    "        prediction = prediction.data.cpu().numpy()\n",
    "        #print(\"Time taken for prediction =\", time.time()-start_time)\n",
    "        ind = ind+1\n",
    "        print(ind, end='\\r', sep='\\r')\n",
    "\n",
    "        # read labels\n",
    "        labels = read_labels_from_file('labels.txt')\n",
    "\n",
    "        # print top predictions\n",
    "        top_inds = prediction[0].argsort()[::-1][:5]  # reverse sort and take five largest items\n",
    "        #print('\\nTop 5:')\n",
    "        #for i in top_inds:\n",
    "        #  print('{:.5f} {}'.format(prediction[0][i], labels[i]))\n",
    "        if(ind > 10):\n",
    "            print(ind)\n",
    "            break\n",
    "    return (ind-1)*frames"
   ]
  },
  {
   "cell_type": "code",
   "execution_count": 23,
   "metadata": {},
   "outputs": [
    {
     "name": "stderr",
     "output_type": "stream",
     "text": [
      "/home/nevin/.conda/envs/pytorch/lib/python3.6/site-packages/skimage/transform/_warps.py:105: UserWarning: The default mode, 'constant', will be changed to 'reflect' in skimage 0.15.\n",
      "  warn(\"The default mode, 'constant', will be changed to 'reflect' in \"\n",
      "/home/nevin/.conda/envs/pytorch/lib/python3.6/site-packages/skimage/transform/_warps.py:110: UserWarning: Anti-aliasing will be enabled by default in skimage 0.15 to avoid aliasing artifacts when down-sampling images.\n",
      "  warn(\"Anti-aliasing will be enabled by default in skimage 0.15 to \"\n",
      "/home/nevin/nevin/projects/ml-exercises/paper-implemenations/c3d-pytorch/C3D_model.py:66: UserWarning: Implicit dimension choice for softmax has been deprecated. Change the call to include dim=X as an argument.\n",
      "  probs = self.softmax(logits)\n"
     ]
    },
    {
     "name": "stdout",
     "output_type": "stream",
     "text": [
      "11\n",
      "Total time taken =  9.346944332122803\n",
      "17.117893753804147  Frames per second\n"
     ]
    }
   ],
   "source": [
    "start_time = time.time()\n",
    "total_frames = predict('./vid_data/cycling.mp4')\n",
    "total_time = time.time()-start_time\n",
    "print(\"Total time taken = \", total_time)\n",
    "print(total_frames/total_time, \" Frames per second\")"
   ]
  },
  {
   "cell_type": "code",
   "execution_count": null,
   "metadata": {},
   "outputs": [],
   "source": []
  }
 ],
 "metadata": {
  "kernelspec": {
   "display_name": "Python [conda env:pytorch]",
   "language": "python",
   "name": "conda-env-pytorch-py"
  },
  "language_info": {
   "codemirror_mode": {
    "name": "ipython",
    "version": 3
   },
   "file_extension": ".py",
   "mimetype": "text/x-python",
   "name": "python",
   "nbconvert_exporter": "python",
   "pygments_lexer": "ipython3",
   "version": "3.6.6"
  }
 },
 "nbformat": 4,
 "nbformat_minor": 2
}
